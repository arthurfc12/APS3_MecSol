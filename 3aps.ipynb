{
 "cells": [
  {
   "cell_type": "markdown",
   "metadata": {},
   "source": [
    "# APS 3\n",
    "\n",
    "___"
   ]
  },
  {
   "cell_type": "markdown",
   "metadata": {},
   "source": [
    "####  <font style='font-family:Georgia' color='darkturquoise'> Arthur"
   ]
  },
  {
   "cell_type": "markdown",
   "metadata": {},
   "source": [
    "### Importando bibliotecas e valores"
   ]
  },
  {
   "cell_type": "code",
   "execution_count": 30,
   "metadata": {},
   "outputs": [],
   "source": [
    "from funcoesTermosol import *\n",
    "import numpy as np\n",
    "import math\n",
    "from time import perf_counter"
   ]
  },
  {
   "cell_type": "code",
   "execution_count": 31,
   "metadata": {},
   "outputs": [],
   "source": [
    "def matprint(mat, fmt=\"g\"):        # Credits to braingineer https://gist.github.com/braingineer/d801735dac07ff3ac4d746e1f218ab75\n",
    "    col_maxes = [max([len((\"{:\"+fmt+\"}\").format(x)) for x in col]) for col in mat.T]\n",
    "    for x in mat:\n",
    "        for i, y in enumerate(x):\n",
    "            print((\"{:\"+str(col_maxes[i])+fmt+\"}\").format(y), end=\"  \")\n",
    "        print(\"\")"
   ]
  },
  {
   "cell_type": "markdown",
   "metadata": {},
   "source": [
    "### Representação da estrutura"
   ]
  },
  {
   "cell_type": "code",
   "execution_count": 32,
   "metadata": {
    "scrolled": false
   },
   "outputs": [
    {
     "data": {
      "image/png": "[encoded data removed]",
      "text/plain": [
       "<Figure size 432x288 with 1 Axes>"
      ]
     },
     "metadata": {
      "needs_background": "light"
     },
     "output_type": "display_data"
    }
   ],
   "source": [
    "entrada = \"aps3_entrada.xlsx\"\n",
    "\n",
    "[nn,N,nm,Inc,nc,F,nr,R] = importa(entrada)\n",
    "\n",
    "plota(N, Inc)\n",
    "# geraSaida()"
   ]
  },
  {
   "cell_type": "markdown",
   "metadata": {},
   "source": [
    "### Informações sobre a treliça\n",
    "\n",
    "* nn: número de nós\n",
    "* N: Matriz dos nós\n",
    "* nm: número de membros\n",
    "* Inc: Matriz de incidência. Colunas:\n",
    "    1. Nó 1\n",
    "    2. Nó 2\n",
    "    3. E\n",
    "    4. A\n",
    "* nc: número de cargas\n",
    "* F: forças (Vetor carregamento)\n",
    "* nr: número de restrições\n",
    "* R: Restrições (Vetor com os graus de liberdade)"
   ]
  },
  {
   "cell_type": "code",
   "execution_count": 33,
   "metadata": {},
   "outputs": [],
   "source": [
    "# Comprimento \n",
    "L = 4\n",
    "#numero de nodes\n",
    "n = 8"
   ]
  },
  {
   "cell_type": "markdown",
   "metadata": {},
   "source": [
    "### Gerando a matriz de conectividade transposta"
   ]
  },
  {
   "cell_type": "code",
   "execution_count": 34,
   "metadata": {},
   "outputs": [
    {
     "name": "stdout",
     "output_type": "stream",
     "text": [
      "-1  -1   0   0   0   0   0   0   0   0   0   0   0  \n",
      " 1   0  -1  -1  -1   0   0   0   0   0   0   0   0  \n",
      " 0   0   1   0   0  -1  -1   0   0   0   0   0   0  \n",
      " 0   0   0   0   0   1   0  -1  -1  -1   0   0   0  \n",
      " 0   0   0   0   0   0   0   1   0   0  -1   0   0  \n",
      " 0   1   0   1   0   0   0   0   0   0   0  -1   0  \n",
      " 0   0   0   0   1   0   1   0   1   0   0   1  -1  \n",
      " 0   0   0   0   0   0   0   0   0   1   1   0   1  \n"
     ]
    }
   ],
   "source": [
    "C = []\n",
    "for i in range(nm):\n",
    "        C_i = nn*[0]\n",
    "\n",
    "        no_1 = int(Inc[i, 0])\n",
    "        no_2 = int(Inc[i, 1])\n",
    "\n",
    "        C_i[no_1-1] = -1\n",
    "        C_i[no_2-1] = 1\n",
    "        C.append(C_i) \n",
    "\n",
    "C_t = np.array(C).T\n",
    "matprint(C_t)"
   ]
  },
  {
   "cell_type": "markdown",
   "metadata": {},
   "source": [
    "### Matriz dos membros (M)"
   ]
  },
  {
   "cell_type": "code",
   "execution_count": 35,
   "metadata": {
    "scrolled": true
   },
   "outputs": [
    {
     "name": "stdout",
     "output_type": "stream",
     "text": [
      "[[ 1.  1.  1.  0.  1.  1.  0.  1. -1.  0. -1.  1.  1.]\n",
      " [ 0.  1.  0.  1.  1.  0.  1.  0.  1.  1.  1.  0.  0.]]\n"
     ]
    }
   ],
   "source": [
    "M = np.matmul(N, C_t)\n",
    "print(M)"
   ]
  },
  {
   "cell_type": "markdown",
   "metadata": {},
   "source": [
    "### Obtendo Se, Ke e Kg"
   ]
  },
  {
   "cell_type": "code",
   "execution_count": 36,
   "metadata": {},
   "outputs": [
    {
     "name": "stdout",
     "output_type": "stream",
     "text": [
      "[[ 6.39553977e+09  1.67053977e+09 -4.72500000e+09  0.00000000e+00\n",
      "   0.00000000e+00  0.00000000e+00  0.00000000e+00  0.00000000e+00\n",
      "   0.00000000e+00  0.00000000e+00 -1.67053977e+09 -1.67053977e+09\n",
      "   0.00000000e+00  0.00000000e+00  0.00000000e+00  0.00000000e+00]\n",
      " [ 1.67053977e+09  1.67053977e+09  0.00000000e+00  0.00000000e+00\n",
      "   0.00000000e+00  0.00000000e+00  0.00000000e+00  0.00000000e+00\n",
      "   0.00000000e+00  0.00000000e+00 -1.67053977e+09 -1.67053977e+09\n",
      "   0.00000000e+00  0.00000000e+00  0.00000000e+00  0.00000000e+00]\n",
      " [-4.72500000e+09  0.00000000e+00  1.11205398e+10  1.67053977e+09\n",
      "  -4.72500000e+09  0.00000000e+00  0.00000000e+00  0.00000000e+00\n",
      "   0.00000000e+00  0.00000000e+00  0.00000000e+00  0.00000000e+00\n",
      "  -1.67053977e+09 -1.67053977e+09  0.00000000e+00  0.00000000e+00]\n",
      " [ 0.00000000e+00  0.00000000e+00  1.67053977e+09  6.39553977e+09\n",
      "   0.00000000e+00  0.00000000e+00  0.00000000e+00  0.00000000e+00\n",
      "   0.00000000e+00  0.00000000e+00  0.00000000e+00 -4.72500000e+09\n",
      "  -1.67053977e+09 -1.67053977e+09  0.00000000e+00  0.00000000e+00]\n",
      " [ 0.00000000e+00  0.00000000e+00 -4.72500000e+09  0.00000000e+00\n",
      "   9.45000000e+09  0.00000000e+00 -4.72500000e+09  0.00000000e+00\n",
      "   0.00000000e+00  0.00000000e+00  0.00000000e+00  0.00000000e+00\n",
      "   0.00000000e+00  0.00000000e+00  0.00000000e+00  0.00000000e+00]\n",
      " [ 0.00000000e+00  0.00000000e+00  0.00000000e+00  0.00000000e+00\n",
      "   0.00000000e+00  4.72500000e+09  0.00000000e+00  0.00000000e+00\n",
      "   0.00000000e+00  0.00000000e+00  0.00000000e+00  0.00000000e+00\n",
      "   0.00000000e+00 -4.72500000e+09  0.00000000e+00  0.00000000e+00]\n",
      " [ 0.00000000e+00  0.00000000e+00  0.00000000e+00  0.00000000e+00\n",
      "  -4.72500000e+09  0.00000000e+00  1.11205398e+10 -1.67053977e+09\n",
      "  -4.72500000e+09  0.00000000e+00  0.00000000e+00  0.00000000e+00\n",
      "  -1.67053977e+09  1.67053977e+09  0.00000000e+00  0.00000000e+00]\n",
      " [ 0.00000000e+00  0.00000000e+00  0.00000000e+00  0.00000000e+00\n",
      "   0.00000000e+00  0.00000000e+00 -1.67053977e+09  6.39553977e+09\n",
      "   0.00000000e+00  0.00000000e+00  0.00000000e+00  0.00000000e+00\n",
      "   1.67053977e+09 -1.67053977e+09  0.00000000e+00 -4.72500000e+09]\n",
      " [ 0.00000000e+00  0.00000000e+00  0.00000000e+00  0.00000000e+00\n",
      "   0.00000000e+00  0.00000000e+00 -4.72500000e+09  0.00000000e+00\n",
      "   6.39553977e+09 -1.67053977e+09  0.00000000e+00  0.00000000e+00\n",
      "   0.00000000e+00  0.00000000e+00 -1.67053977e+09  1.67053977e+09]\n",
      " [ 0.00000000e+00  0.00000000e+00  0.00000000e+00  0.00000000e+00\n",
      "   0.00000000e+00  0.00000000e+00  0.00000000e+00  0.00000000e+00\n",
      "  -1.67053977e+09  1.67053977e+09  0.00000000e+00  0.00000000e+00\n",
      "   0.00000000e+00  0.00000000e+00  1.67053977e+09 -1.67053977e+09]\n",
      " [-1.67053977e+09 -1.67053977e+09  0.00000000e+00  0.00000000e+00\n",
      "   0.00000000e+00  0.00000000e+00  0.00000000e+00  0.00000000e+00\n",
      "   0.00000000e+00  0.00000000e+00  6.39553977e+09  1.67053977e+09\n",
      "  -4.72500000e+09  0.00000000e+00  0.00000000e+00  0.00000000e+00]\n",
      " [-1.67053977e+09 -1.67053977e+09  0.00000000e+00 -4.72500000e+09\n",
      "   0.00000000e+00  0.00000000e+00  0.00000000e+00  0.00000000e+00\n",
      "   0.00000000e+00  0.00000000e+00  1.67053977e+09  6.39553977e+09\n",
      "   0.00000000e+00  0.00000000e+00  0.00000000e+00  0.00000000e+00]\n",
      " [ 0.00000000e+00  0.00000000e+00 -1.67053977e+09 -1.67053977e+09\n",
      "   0.00000000e+00  0.00000000e+00 -1.67053977e+09  1.67053977e+09\n",
      "   0.00000000e+00  0.00000000e+00 -4.72500000e+09  0.00000000e+00\n",
      "   1.27910795e+10  0.00000000e+00 -4.72500000e+09  0.00000000e+00]\n",
      " [ 0.00000000e+00  0.00000000e+00 -1.67053977e+09 -1.67053977e+09\n",
      "   0.00000000e+00 -4.72500000e+09  1.67053977e+09 -1.67053977e+09\n",
      "   0.00000000e+00  0.00000000e+00  0.00000000e+00  0.00000000e+00\n",
      "   0.00000000e+00  8.06607954e+09  0.00000000e+00  0.00000000e+00]\n",
      " [ 0.00000000e+00  0.00000000e+00  0.00000000e+00  0.00000000e+00\n",
      "   0.00000000e+00  0.00000000e+00  0.00000000e+00  0.00000000e+00\n",
      "  -1.67053977e+09  1.67053977e+09  0.00000000e+00  0.00000000e+00\n",
      "  -4.72500000e+09  0.00000000e+00  6.39553977e+09 -1.67053977e+09]\n",
      " [ 0.00000000e+00  0.00000000e+00  0.00000000e+00  0.00000000e+00\n",
      "   0.00000000e+00  0.00000000e+00  0.00000000e+00 -4.72500000e+09\n",
      "   1.67053977e+09 -1.67053977e+09  0.00000000e+00  0.00000000e+00\n",
      "   0.00000000e+00  0.00000000e+00 -1.67053977e+09  6.39553977e+09]]\n"
     ]
    }
   ],
   "source": [
    "len_linhas_M = len(M)\n",
    "len_linhas_C = len(C_t)\n",
    "Kg = np.zeros((nn*2, nn*2))\n",
    "for i in range(0, nm):\n",
    "    E = Inc[i,2]\n",
    "    A = Inc[i,3]\n",
    "    \n",
    "    n1 = Inc[i,0]\n",
    "    n2 = Inc[i,1]\n",
    "    \n",
    "    x1 = N[0][int(Inc[:,0][i])-1]\n",
    "    y1 = N[1][int(Inc[:,0][i])-1]\n",
    "    x2 = N[0][int(Inc[:,1][i])-1]\n",
    "    y2 = N[1][int(Inc[:,1][i])-1]    \n",
    "    \n",
    "    L = math.sqrt(((x1-x2)**2+(y1-y2)**2))\n",
    "    \n",
    "    const = E*A/L\n",
    "    \n",
    "    M_aux = M[:,i]\n",
    "    M_aux.shape = [len_linhas_M, 1]\n",
    "    M_aux2 = np.transpose(M_aux)\n",
    "    Se = (const * np.matmul(M_aux, M_aux2)) / (np.linalg.norm(M[:,i])**2)\n",
    "\n",
    "    C_aux = C_t[:,i]\n",
    "    C_aux.shape = [len_linhas_C, 1]\n",
    "    C_aux2 = np.transpose(C_aux)\n",
    "    \n",
    "    multi_C_aux = np.matmul(C_aux, C_aux2)\n",
    "    Ke = np.kron(multi_C_aux, Se)\n",
    "    Kg += Ke\n",
    "# print(Se)\n",
    "print(Kg)"
   ]
  },
  {
   "cell_type": "markdown",
   "metadata": {},
   "source": [
    "### Deslocamento nodal"
   ]
  },
  {
   "cell_type": "markdown",
   "metadata": {},
   "source": [
    "Aplicando as condições de contorno para a matriz das forças:"
   ]
  },
  {
   "cell_type": "code",
   "execution_count": 37,
   "metadata": {
    "scrolled": true
   },
   "outputs": [
    {
     "data": {
      "text/plain": [
       "array([     0.,      0.,      0.,      0.,      0.,      0., -32000.,\n",
       "            0., -48000.,      0., -32000.])"
      ]
     },
     "execution_count": 37,
     "metadata": {},
     "output_type": "execute_result"
    }
   ],
   "source": [
    "F_c = np.delete(F, R.astype(int))\n",
    "F_c\n"
   ]
  },
  {
   "cell_type": "markdown",
   "metadata": {},
   "source": [
    "Aplicando as condições de contorno para a matriz da rigidez:"
   ]
  },
  {
   "cell_type": "code",
   "execution_count": 38,
   "metadata": {},
   "outputs": [
    {
     "name": "stdout",
     "output_type": "stream",
     "text": [
      " 1.11205e+10  -4.725e+09           0             0             0            0            0  -1.67054e+09  -1.67054e+09             0             0  \n",
      "  -4.725e+09    9.45e+09           0    -4.725e+09             0            0            0             0             0             0             0  \n",
      "           0           0   4.725e+09             0             0            0            0             0    -4.725e+09             0             0  \n",
      "           0  -4.725e+09           0   1.11205e+10    -4.725e+09            0            0  -1.67054e+09   1.67054e+09             0             0  \n",
      "           0           0           0    -4.725e+09   6.39554e+09            0            0             0             0  -1.67054e+09   1.67054e+09  \n",
      "           0           0           0             0             0  6.39554e+09  1.67054e+09    -4.725e+09             0             0             0  \n",
      "           0           0           0             0             0  1.67054e+09  6.39554e+09             0             0             0             0  \n",
      "-1.67054e+09           0           0  -1.67054e+09             0   -4.725e+09            0   1.27911e+10             0    -4.725e+09             0  \n",
      "-1.67054e+09           0  -4.725e+09   1.67054e+09             0            0            0             0   8.06608e+09             0             0  \n",
      "           0           0           0             0  -1.67054e+09            0            0    -4.725e+09             0   6.39554e+09  -1.67054e+09  \n",
      "           0           0           0             0   1.67054e+09            0            0             0             0  -1.67054e+09   6.39554e+09  \n"
     ]
    }
   ],
   "source": [
    "Kg_c = np.delete(Kg, R.astype(int),0)\n",
    "Kg_c = np.delete(Kg_c, R.astype(int), 1)\n",
    "matprint(Kg_c)"
   ]
  },
  {
   "cell_type": "markdown",
   "metadata": {},
   "source": [
    "___\n",
    "**Funções de Jacobi e Gauss-Seidel utilizadas na aula 21:**"
   ]
  },
  {
   "cell_type": "code",
   "execution_count": 39,
   "metadata": {},
   "outputs": [],
   "source": [
    "# def jacobi(k,F,ite,tol):\n",
    "#     #inicializando X com \n",
    "#     x = np.zeros(k.shape[0])\n",
    "\n",
    "#     # Cria um vetor com os elementos da diagonal de k                       \n",
    "#     diagonal = np.diag(k)\n",
    "#     # Subtrai a diagonal de K\n",
    "#     k_d = k - np.diagflat(diagonal)\n",
    "#     # loop até chegar abaixo da tolerância ou passar do número máximo de iterações\n",
    "#     for i in range(ite):\n",
    "#         x2 = (F - np.matmul(k_d,x)) / diagonal\n",
    "#         error =  max(abs((x2 - x)/x2) )\n",
    "#         if error < tol:\n",
    "#             print(f\"Erro máximo: {error}\")\n",
    "#             print(f\"Convergiu na iteração: {i}\")\n",
    "#             return x2\n",
    "        \n",
    "#         x = x2\n",
    "#     return x\n",
    "def jacobi(K,F,ite,tol):\n",
    "    if type(K) != list:\n",
    "        U = np.zeros((K.shape[0],1))\n",
    "        n = K.shape[0]\n",
    "    else:\n",
    "        U = np.zeros((len(K),1))\n",
    "        n = len(K)\n",
    "    U_ = U.copy()\n",
    "    count = 0\n",
    "    while count < ite:\n",
    "        for i in range(n):\n",
    "            U_[i][0] = F[i]\n",
    "            for j in range(n):\n",
    "                if j != i:\n",
    "                    U_[i][0] -= K[i][j] * U[j][0]\n",
    "            U_[i][0] /= K[i][i]\n",
    "\n",
    "        if 0 not in U:     # Cálculo do erro\n",
    "            ERROR_list = []\n",
    "            for i,j in zip(U_,U):\n",
    "                ERROR_list.append(abs((i-j)/j))\n",
    "            ERRO = max(ERROR_list)\n",
    "            if ERRO < tol:\n",
    "                print(\"Iterações: {0}\".format(count))\n",
    "                return U;\n",
    "        U = U_.copy() \n",
    "        count += 1\n",
    "    print(\"Iterações: {0}\".format(count))\n",
    "    return U;"
   ]
  },
  {
   "cell_type": "code",
   "execution_count": 40,
   "metadata": {},
   "outputs": [],
   "source": [
    "# def gauss_seidel(A, b, ite, tol):\n",
    "#     x = np.zeros_like(b, dtype=np.double)\n",
    "    \n",
    "#     #Iterate\n",
    "#     for k in range(ite):\n",
    "        \n",
    "#         x_old  = x.copy()\n",
    "        \n",
    "#         #Loop over rows\n",
    "#         for i in range(A.shape[0]):\n",
    "#             x[i] = (b[i] - np.dot(A[i,:i], x[:i]) - np.dot(A[i,(i+1):], x_old[(i+1):])) / A[i ,i]\n",
    "            \n",
    "#         #Stop condition \n",
    "#         if np.linalg.norm(x - x_old, ord=np.inf) / np.linalg.norm(x, ord=np.inf) < tol:\n",
    "#             break\n",
    "            \n",
    "#     return x\n",
    "def gauss_seidel(K,F,ite,tol):\n",
    "    if type(K) != list:\n",
    "        U = np.zeros((K.shape[0],1))\n",
    "        n = K.shape[0]\n",
    "    else:\n",
    "        U = np.zeros((len(K),1))\n",
    "        n = len(K)\n",
    "    U_ = U.copy()\n",
    "    count = 0\n",
    "    while count < ite:\n",
    "        for i in range(n):\n",
    "            U_[i][0] = F[i]\n",
    "            for j in range(n):\n",
    "                if j != i:\n",
    "                    U_[i][0] -= K[i][j] * U_[j][0]\n",
    "            U_[i][0] /= K[i][i]\n",
    "\n",
    "        if 0 not in U:     # Cálculo do erro\n",
    "            ERROR_list = []\n",
    "            for i,j in zip(U_,U):\n",
    "                ERROR_list.append(abs((i-j)/j))\n",
    "            ERRO = max(ERROR_list)\n",
    "            if ERRO < tol:\n",
    "                print(\"Iterações: {0}\".format(count))\n",
    "                return U;\n",
    "        U = U_.copy() \n",
    "        count += 1\n",
    "    print(\"Iterações: {0}\".format(count))\n",
    "    return U;"
   ]
  },
  {
   "cell_type": "markdown",
   "metadata": {},
   "source": [
    "___\n",
    "Utilizando Jacobi, Gauss-Seidel e a forma geral para cálculo da matriz **U**"
   ]
  },
  {
   "cell_type": "code",
   "execution_count": 58,
   "metadata": {},
   "outputs": [
    {
     "name": "stdout",
     "output_type": "stream",
     "text": [
      "Iterações: 739\n",
      "Método Jacobi:\n",
      "Iterações: 739\n",
      " 2.47951e-07  \n",
      " 5.57527e-06  \n",
      "-1.96939e-05  \n",
      " 1.09026e-05  \n",
      " 1.11505e-05  \n",
      " 5.82322e-06  \n",
      "-6.52454e-06  \n",
      " 5.57527e-06  \n",
      "-1.96939e-05  \n",
      " 5.32731e-06  \n",
      "-6.52453e-06  \n",
      "Tempo: 0.08164808999981688\n"
     ]
    }
   ],
   "source": [
    "u_jacobi = jacobi(Kg_c, F_c, 1000, 1e-5)\n",
    "print(\"Método Jacobi:\")\n",
    "timer_start = perf_counter()\n",
    "matprint(jacobi(Kg_c, F_c,1000, 1e-5))\n",
    "print(\"Tempo: {0}\".format(perf_counter() - timer_start))"
   ]
  },
  {
   "cell_type": "code",
   "execution_count": 59,
   "metadata": {},
   "outputs": [
    {
     "name": "stdout",
     "output_type": "stream",
     "text": [
      "Iterações: 109\n",
      "Método Gauss-Seidel:\n",
      "Iterações: 109\n",
      " 2.47929e-07  \n",
      " 5.57523e-06  \n",
      "-1.96939e-05  \n",
      " 1.09025e-05  \n",
      " 1.11505e-05  \n",
      " 5.82318e-06  \n",
      "-6.52453e-06  \n",
      " 5.57523e-06  \n",
      "-1.96939e-05  \n",
      " 5.32727e-06  \n",
      "-6.52453e-06  \n",
      "Tempo: 0.013181176999751187\n"
     ]
    }
   ],
   "source": [
    "u_gauss = gauss_seidel(Kg_c, F_c, 1000, 1e-5)\n",
    "print(\"Método Gauss-Seidel:\")\n",
    "timer_start = perf_counter()\n",
    "matprint(gauss_seidel(Kg_c, F_c, 1000, 1e-5))\n",
    "print(\"Tempo: {0}\".format(perf_counter() - timer_start))"
   ]
  },
  {
   "cell_type": "markdown",
   "metadata": {},
   "source": [
    "**Deslocamentos nodais**"
   ]
  },
  {
   "cell_type": "code",
   "execution_count": 43,
   "metadata": {},
   "outputs": [
    {
     "data": {
      "text/plain": [
       "array([ 2.47951931e-07,  5.57526894e-06, -1.96939310e-05,  1.09025860e-05,\n",
       "        1.11505379e-05,  5.82322087e-06, -6.52453484e-06,  5.57526894e-06,\n",
       "       -1.96939310e-05,  5.32731701e-06, -6.52453484e-06])"
      ]
     },
     "execution_count": 43,
     "metadata": {},
     "output_type": "execute_result"
    }
   ],
   "source": [
    "U_ar = np.linalg.solve(Kg_c, F_c)\n",
    "U_ar"
   ]
  },
  {
   "cell_type": "markdown",
   "metadata": {},
   "source": [
    "**Ajustando o tamanho das matrizes U**"
   ]
  },
  {
   "cell_type": "code",
   "execution_count": 44,
   "metadata": {},
   "outputs": [
    {
     "data": {
      "text/plain": [
       "array([[ 0.00000000e+00],\n",
       "       [ 0.00000000e+00],\n",
       "       [ 2.35347601e-07],\n",
       "       [ 0.00000000e+00],\n",
       "       [ 5.54527339e-06],\n",
       "       [-1.96813850e-05],\n",
       "       [ 1.08720368e-05],\n",
       "       [ 0.00000000e+00],\n",
       "       [ 1.11071811e-05],\n",
       "       [ 0.00000000e+00],\n",
       "       [ 5.80146637e-06],\n",
       "       [-6.51664554e-06],\n",
       "       [ 5.54114989e-06],\n",
       "       [-1.96789139e-05],\n",
       "       [ 5.29965508e-06],\n",
       "       [-6.52651671e-06]])"
      ]
     },
     "execution_count": 44,
     "metadata": {},
     "output_type": "execute_result"
    }
   ],
   "source": [
    "u_jacobi_ajustado = np.zeros((nn*2,1))\n",
    "i = 0\n",
    "for e in range(len(u_jacobi_ajustado)):\n",
    "    if e not in R:\n",
    "        u_jacobi_ajustado[e] += u_jacobi[i]\n",
    "        i += 1\n",
    "u_jacobi_ajustado"
   ]
  },
  {
   "cell_type": "code",
   "execution_count": 45,
   "metadata": {},
   "outputs": [
    {
     "data": {
      "text/plain": [
       "array([[ 0.00000000e+00],\n",
       "       [ 0.00000000e+00],\n",
       "       [ 2.47888931e-07],\n",
       "       [ 0.00000000e+00],\n",
       "       [ 5.57515993e-06],\n",
       "       [-1.96938801e-05],\n",
       "       [ 1.09024475e-05],\n",
       "       [ 0.00000000e+00],\n",
       "       [ 1.11503998e-05],\n",
       "       [ 0.00000000e+00],\n",
       "       [ 5.82312092e-06],\n",
       "       [-6.52450873e-06],\n",
       "       [ 5.57515736e-06],\n",
       "       [-1.96938856e-05],\n",
       "       [ 5.32720013e-06],\n",
       "       [-6.52452930e-06]])"
      ]
     },
     "execution_count": 45,
     "metadata": {},
     "output_type": "execute_result"
    }
   ],
   "source": [
    "u_gauss_ajustado = np.zeros((nn*2,1))\n",
    "i = 0\n",
    "for e in range(len(u_gauss_ajustado)):\n",
    "    if e not in R:\n",
    "        u_gauss_ajustado[e] += u_gauss[i]\n",
    "        i += 1\n",
    "u_gauss_ajustado"
   ]
  },
  {
   "cell_type": "code",
   "execution_count": 46,
   "metadata": {},
   "outputs": [
    {
     "data": {
      "text/plain": [
       "array([[ 0.00000000e+00],\n",
       "       [ 0.00000000e+00],\n",
       "       [ 2.47951931e-07],\n",
       "       [ 0.00000000e+00],\n",
       "       [ 5.57526894e-06],\n",
       "       [-1.96939310e-05],\n",
       "       [ 1.09025860e-05],\n",
       "       [ 0.00000000e+00],\n",
       "       [ 1.11505379e-05],\n",
       "       [ 0.00000000e+00],\n",
       "       [ 5.82322087e-06],\n",
       "       [-6.52453484e-06],\n",
       "       [ 5.57526894e-06],\n",
       "       [-1.96939310e-05],\n",
       "       [ 5.32731701e-06],\n",
       "       [-6.52453484e-06]])"
      ]
     },
     "execution_count": 46,
     "metadata": {},
     "output_type": "execute_result"
    }
   ],
   "source": [
    "u = np.zeros((nn*2,1))\n",
    "i = 0\n",
    "for e in range(len(u)):\n",
    "    if e not in R:\n",
    "        u[e] += U_ar[i]\n",
    "        i += 1\n",
    "u"
   ]
  },
  {
   "cell_type": "markdown",
   "metadata": {},
   "source": [
    "### Reações de apoio"
   ]
  },
  {
   "cell_type": "code",
   "execution_count": 47,
   "metadata": {
    "scrolled": false
   },
   "outputs": [
    {
     "data": {
      "text/plain": [
       "array([[ 0.00000000e+00],\n",
       "       [ 1.17157288e+03],\n",
       "       [ 0.00000000e+00],\n",
       "       [ 5.48284271e+04],\n",
       "       [ 0.00000000e+00],\n",
       "       [ 5.15395452e-13],\n",
       "       [ 0.00000000e+00],\n",
       "       [ 5.48284271e+04],\n",
       "       [-9.09494702e-12],\n",
       "       [ 1.17157288e+03],\n",
       "       [-1.81898940e-12],\n",
       "       [-3.20000000e+04],\n",
       "       [ 0.00000000e+00],\n",
       "       [-4.80000000e+04],\n",
       "       [ 9.09494702e-12],\n",
       "       [-3.20000000e+04]])"
      ]
     },
     "execution_count": 47,
     "metadata": {},
     "output_type": "execute_result"
    }
   ],
   "source": [
    "P = np.matmul(Kg,u)\n",
    "P"
   ]
  },
  {
   "cell_type": "code",
   "execution_count": 48,
   "metadata": {
    "scrolled": true
   },
   "outputs": [
    {
     "data": {
      "text/plain": [
       "array([[    0.        ],\n",
       "       [ 1171.57287525],\n",
       "       [54828.42712475],\n",
       "       [54828.42712475],\n",
       "       [ 1171.57287525],\n",
       "       [ 1171.57287525]])"
      ]
     },
     "execution_count": 48,
     "metadata": {},
     "output_type": "execute_result"
    }
   ],
   "source": [
    "P_r = np.zeros((nr,1))\n",
    "for i in range(nr):  \n",
    "    index = int(R[i])\n",
    "    P_r[i] = P[index]    \n",
    "P_r"
   ]
  },
  {
   "cell_type": "markdown",
   "metadata": {},
   "source": [
    "### Deformações, Tenões e Forças internas"
   ]
  },
  {
   "cell_type": "code",
   "execution_count": null,
   "metadata": {},
   "outputs": [],
   "source": []
  },
  {
   "cell_type": "code",
   "execution_count": 49,
   "metadata": {},
   "outputs": [],
   "source": [
    "deformacoes=[]\n",
    "tensoes=[]\n",
    "forcas=[]\n",
    "for i in range (nm):\n",
    "        \n",
    "    matriz = [\n",
    "            u[(int(Inc[i, 0])-1)*2], \n",
    "            u[(int(Inc[i, 0])-1)*2 +1], \n",
    "            u[(int(Inc[i, 1])-1)*2], \n",
    "            u[int(Inc[i, 1]-1)*2 +1]\n",
    "    ]\n",
    "    \n",
    "    x1 = N[0][int(Inc[:,0][i])-1]\n",
    "    y1 = N[1][int(Inc[:,0][i])-1]\n",
    "    x2 = N[0][int(Inc[:,1][i])-1]\n",
    "    y2 = N[1][int(Inc[:,1][i])-1]    \n",
    "    \n",
    "    L = math.sqrt(((x1-x2)**2+(y1-y2)**2))  \n",
    "    \n",
    "    E =  Inc[i, 2]\n",
    "    A = Inc[i,3]\n",
    "    const = E*A/L\n",
    "    \n",
    "    s = (y2-y1)/L\n",
    "    c = (x2-x1)/L\n",
    "    \n",
    "    C = [-c, -s, c, s]\n",
    "\n",
    "    deformacao = (1/L) * np.matmul(C, matriz)\n",
    "    tensao = deformacao*E\n",
    "    forca=tensao*A\n",
    "    \n",
    "    deformacoes.append(deformacao)\n",
    "    tensoes.append(tensao)\n",
    "    forcas.append(forca)\n",
    "\n"
   ]
  },
  {
   "cell_type": "code",
   "execution_count": 50,
   "metadata": {},
   "outputs": [
    {
     "data": {
      "text/plain": [
       "[array([2.47951931e-07]),\n",
       " array([-3.50656984e-07]),\n",
       " array([5.32731701e-06]),\n",
       " array([-6.52453484e-06]),\n",
       " array([-7.18330698e-06]),\n",
       " array([5.32731701e-06]),\n",
       " array([0.]),\n",
       " array([2.47951931e-07]),\n",
       " array([-7.18330698e-06]),\n",
       " array([-6.52453484e-06]),\n",
       " array([-3.50656984e-07]),\n",
       " array([-2.47951931e-07]),\n",
       " array([-2.47951931e-07])]"
      ]
     },
     "execution_count": 50,
     "metadata": {},
     "output_type": "execute_result"
    }
   ],
   "source": [
    "deformacoes"
   ]
  },
  {
   "cell_type": "code",
   "execution_count": 51,
   "metadata": {},
   "outputs": [
    {
     "data": {
      "text/plain": [
       "[array([52069.90556684]),\n",
       " array([-73637.96664411]),\n",
       " array([1118736.5722335]),\n",
       " array([-1370152.31665539]),\n",
       " array([-1508494.4665313]),\n",
       " array([1118736.5722335]),\n",
       " array([0.]),\n",
       " array([52069.90556684]),\n",
       " array([-1508494.4665313]),\n",
       " array([-1370152.31665539]),\n",
       " array([-73637.96664411]),\n",
       " array([-52069.90556684]),\n",
       " array([-52069.90556684])]"
      ]
     },
     "execution_count": 51,
     "metadata": {},
     "output_type": "execute_result"
    }
   ],
   "source": [
    "tensoes"
   ]
  },
  {
   "cell_type": "code",
   "execution_count": 52,
   "metadata": {},
   "outputs": [
    {
     "data": {
      "text/plain": [
       "[array([1171.57287525]),\n",
       " array([-1656.85424949]),\n",
       " array([25171.57287525]),\n",
       " array([-30828.42712475]),\n",
       " array([-33941.12549695]),\n",
       " array([25171.57287525]),\n",
       " array([0.]),\n",
       " array([1171.57287525]),\n",
       " array([-33941.12549695]),\n",
       " array([-30828.42712475]),\n",
       " array([-1656.85424949]),\n",
       " array([-1171.57287525]),\n",
       " array([-1171.57287525])]"
      ]
     },
     "execution_count": 52,
     "metadata": {},
     "output_type": "execute_result"
    }
   ],
   "source": [
    "forcas"
   ]
  },
  {
   "cell_type": "markdown",
   "metadata": {},
   "source": [
    "___\n",
    "**Gerando Saídas com as 3 matrizes U calculadas anteriormente**"
   ]
  },
  {
   "cell_type": "code",
   "execution_count": 53,
   "metadata": {},
   "outputs": [],
   "source": [
    "x = geraSaida(\"geral\", P_r, u, deformacoes, forcas, tensoes)"
   ]
  },
  {
   "cell_type": "code",
   "execution_count": 54,
   "metadata": {},
   "outputs": [],
   "source": [
    "geraSaida(\"jacobi\", P_r, u_jacobi_ajustado, deformacoes, forcas, tensoes)"
   ]
  },
  {
   "cell_type": "code",
   "execution_count": 55,
   "metadata": {},
   "outputs": [],
   "source": [
    "geraSaida(\"gauss\", P_r, u_gauss_ajustado, deformacoes, forcas, tensoes)"
   ]
  },
  {
   "cell_type": "code",
   "execution_count": null,
   "metadata": {},
   "outputs": [],
   "source": []
  }
 ],
 "metadata": {
  "kernelspec": {
   "display_name": "Python 3",
   "language": "python",
   "name": "python3"
  },
  "language_info": {
   "codemirror_mode": {
    "name": "ipython",
    "version": 3
   },
   "file_extension": ".py",
   "mimetype": "text/x-python",
   "name": "python",
   "nbconvert_exporter": "python",
   "pygments_lexer": "ipython3",
   "version": "3.8.5"
  }
 },
 "nbformat": 4,
 "nbformat_minor": 2
}
