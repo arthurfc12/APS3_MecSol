{
 "cells": [
  {
   "cell_type": "markdown",
   "metadata": {},
   "source": [
    "# Aula 19"
   ]
  },
  {
   "cell_type": "code",
   "execution_count": null,
   "metadata": {},
   "outputs": [],
   "source": [
    "import math\n",
    "import numpy as np\n",
    "import matplotlib.pyplot as plt\n",
    "from funcoesTermosol import *\n"
   ]
  },
  {
   "cell_type": "code",
   "execution_count": null,
   "metadata": {},
   "outputs": [],
   "source": [
    "n_nos, matriz_nos, n_membros, matriz_incidencia, n_cargas, v_carregamento, n_restricoes, v_restricoes = importa(\"entrada.xlsx\")"
   ]
  },
  {
   "cell_type": "code",
   "execution_count": null,
   "metadata": {},
   "outputs": [],
   "source": [
    "m_conectividade = faz_conectividade(matriz_incidencia, n_membros, n_nos)"
   ]
  },
  {
   "cell_type": "code",
   "execution_count": null,
   "metadata": {},
   "outputs": [],
   "source": [
    "m_membros = np.dot(matriz_nos, m_conectividade)"
   ]
  },
  {
   "cell_type": "code",
   "execution_count": null,
   "metadata": {},
   "outputs": [],
   "source": [
    "m_Soma_Ks = soma_mKs(n_nos, n_membros, matriz_incidencia, matriz_nos, matriz_dos_membros)"
   ]
  },
  {
   "cell_type": "code",
   "execution_count": null,
   "metadata": {},
   "outputs": [],
   "source": [
    "m_Forcas = vetor_forcas(v_restricoes, v_carregamento)"
   ]
  },
  {
   "cell_type": "code",
   "execution_count": null,
   "metadata": {},
   "outputs": [],
   "source": [
    "m_Soma_Ks2 = MS(m_Soma_Ks, v_restricoes)"
   ]
  },
  {
   "cell_type": "code",
   "execution_count": null,
   "metadata": {},
   "outputs": [],
   "source": [
    "u = calcula_deslocamentos(m_Soma_Ks2, m_Forcas)\n",
    "u_Lista=[]\n",
    "for i in u[:,0]:\n",
    "    lista.append(i)    \n",
    "for i in vet_rest[:,0]:\n",
    "    lista.insert(int(i), 0)\n",
    "u2=np.array([lista])\n",
    "u2=u2.T"
   ]
  },
  {
   "cell_type": "code",
   "execution_count": null,
   "metadata": {},
   "outputs": [],
   "source": [
    "\n",
    "# R1x = forca(m_Soma_Ks, u2, 0)\n",
    "f = forca_total(m_Soma_Ks, u2, v_restricoes)\n",
    "print(len(forcas))"
   ]
  },
  {
   "cell_type": "code",
   "execution_count": null,
   "metadata": {},
   "outputs": [],
   "source": [
    "print(\"Forcas\")\n",
    "print(\"R1x:\"+str(forcas[0]))\n",
    "print(\"R1y:\"+str(forcas[1]))\n",
    "print(\"R2y:\"+str(forcas[2]))\n",
    "print(\"R3y:\"+str(forcas[3]))\n",
    "print(\"R4y:\"+str(forcas[4]))\n",
    "print(\"R5x:\"+str(forcas[5]))\n",
    "print(\"R5y:\"+str(forcas[6]))"
   ]
  },
  {
   "cell_type": "code",
   "execution_count": null,
   "metadata": {},
   "outputs": [],
   "source": [
    "for i in range(num_membros):\n",
    "    tensao, deformacao, forca = tensao_e_deformacao(i+1, n_membros, u2, matriz_incidencia,matriz_nos, matriz_incidencia[0,2])\n",
    "    print(\"Membro {0}: tensao: {1} | deformacao: {2} | força: {3}\".format(i+1, tensao, deformacao, forca))"
   ]
  },
  {
   "cell_type": "code",
   "execution_count": null,
   "metadata": {},
   "outputs": [],
   "source": [
    "tensao, deformacao, forca = tensao_forca_deformacao(1, num_membros, u_completo, matriz_incidencia, matriz_nos, matriz_incidencia[0,2])"
   ]
  },
  {
   "cell_type": "code",
   "execution_count": null,
   "metadata": {},
   "outputs": [],
   "source": [
    "calcula_deslocamentos(m_Soma_Ks2, m_Forcas)"
   ]
  },
  {
   "cell_type": "code",
   "execution_count": null,
   "metadata": {},
   "outputs": [],
   "source": [
    "gauss_seidel(m_Soma_Ks2, m_Forcas, 100, 1e-3)"
   ]
  },
  {
   "cell_type": "code",
   "execution_count": null,
   "metadata": {},
   "outputs": [],
   "source": [
    "jacobi(m_Soma_Ks2, m_Forcas, 100, 1e-3)"
   ]
  }
 ],
 "metadata": {
  "kernelspec": {
   "display_name": "Python 3",
   "language": "python",
   "name": "python3"
  },
  "language_info": {
   "codemirror_mode": {
    "name": "ipython",
    "version": 3
   },
   "file_extension": ".py",
   "mimetype": "text/x-python",
   "name": "python",
   "nbconvert_exporter": "python",
   "pygments_lexer": "ipython3",
   "version": "3.8.5"
  }
 },
 "nbformat": 4,
 "nbformat_minor": 4
}